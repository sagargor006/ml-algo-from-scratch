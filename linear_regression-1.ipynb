{
 "cells": [
  {
   "cell_type": "code",
   "execution_count": null,
   "metadata": {},
   "outputs": [
    {
     "ename": "",
     "evalue": "",
     "output_type": "error",
     "traceback": [
      "\u001b[1;31mRunning cells with 'Python 3.12.3' requires the ipykernel package.\n",
      "\u001b[1;31mRun the following command to install 'ipykernel' into the Python environment. \n",
      "\u001b[1;31mCommand: '/bin/python3 -m pip install ipykernel -U --user --force-reinstall'"
     ]
    }
   ],
   "source": [
    "import numpy as np\n",
    "import matplotlib.pyplot as plt\n",
    "\n",
    "def compute_model_output(x,w,b):\n",
    "    \"\"\"\n",
    "    Computes the prediction of a linear regression model\n",
    "    Args:\n",
    "        x (ndarray, (m,)) : Data , m examples\n",
    "        w,b (scalar)      : Model Parameters\n",
    "    Returns:\n",
    "        y (ndarray, (m,)) : target values\n",
    "    \"\"\"\n",
    "    \n",
    "    m = len(x)\n",
    "    i = 0\n",
    "    f_wb = np.zeros(m)\n",
    "    for i in range(m):\n",
    "        f_wb[i] = w*x[i] + b\n",
    "\n",
    "    return f_wb\n",
    "\n",
    "train_x = np.array([1.0,2.0,3.0])\n",
    "train_y = np.array([300.0,500.0, 700])\n",
    "\n",
    "\n",
    "print(f\"Training set x is {train_x}\")\n",
    "print(f\"Training set y is {train_y}\")\n",
    "\n",
    "plt.scatter(train_x,train_y,marker=\"X\" , c=\"r\")\n",
    "plt.title(\"Housing Prices\")\n",
    "plt.xlabel(\"Square foots in 1000s\")\n",
    "plt.ylabel(\"Price in 1000 Dollar\")\n",
    "\n",
    "\n",
    "w = 200\n",
    "b = 100\n",
    "\n",
    "predicted_y = compute_model_output(train_x,w,b)\n",
    "\n",
    "plt.plot(train_x,predicted_y,c=\"b\",label=\"predicted values\")\n",
    "plt.show()\n",
    "\n",
    "print(f\"Prediction y {predicted_y}\")"
   ]
  }
 ],
 "metadata": {
  "kernelspec": {
   "display_name": "Python 3",
   "language": "python",
   "name": "python3"
  },
  "language_info": {
   "codemirror_mode": {
    "name": "ipython",
    "version": 3
   },
   "file_extension": ".py",
   "mimetype": "text/x-python",
   "name": "python",
   "nbconvert_exporter": "python",
   "pygments_lexer": "ipython3",
   "version": "3.12.3"
  }
 },
 "nbformat": 4,
 "nbformat_minor": 2
}
